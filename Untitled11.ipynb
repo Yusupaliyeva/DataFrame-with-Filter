{
  "nbformat": 4,
  "nbformat_minor": 0,
  "metadata": {
    "colab": {
      "provenance": []
    },
    "kernelspec": {
      "name": "python3",
      "display_name": "Python 3"
    },
    "language_info": {
      "name": "python"
    }
  },
  "cells": [
    {
      "cell_type": "code",
      "execution_count": 1,
      "metadata": {
        "colab": {
          "base_uri": "https://localhost:8080/"
        },
        "id": "Cp9S6oInPrus",
        "outputId": "d814a463-c5ff-4e0d-c6ee-db9ac19f409e"
      },
      "outputs": [
        {
          "output_type": "stream",
          "name": "stdout",
          "text": [
            "   PassengerId  Survived  Pclass  \\\n",
            "0            1         0       3   \n",
            "1            2         1       1   \n",
            "2            3         1       3   \n",
            "3            4         1       1   \n",
            "4            5         0       3   \n",
            "\n",
            "                                                Name     Sex Age  SibSp  \\\n",
            "0                            Braund, Mr. Owen Harris    male  22      1   \n",
            "1  Cumings, Mrs. John Bradley (Florence Briggs Th...  female  38      1   \n",
            "2                             Heikkinen, Miss. Laina  female  26      0   \n",
            "3       Futrelle, Mrs. Jacques Heath (Lily May Peel)  female  35      1   \n",
            "4                           Allen, Mr. William Henry    male  35      0   \n",
            "\n",
            "   Parch            Ticket                 Fare Cabin Embarked  \n",
            "0      0         A/5 21171  2025-07-01 00:00:00   NaN        S  \n",
            "1      0          PC 17599              71.2833   C85        C  \n",
            "2      0  STON/O2. 3101282                7.925   NaN        S  \n",
            "3      0            113803                 53.1  C123        S  \n",
            "4      0            373450  2024-05-08 00:00:00   NaN        S  \n"
          ]
        }
      ],
      "source": [
        "import pandas as pd\n",
        "data=pd.read_excel(\"titanik.xlsx\")\n",
        "df = pd.read_excel(\"titanik.xlsx\")\n",
        "print(data.head())"
      ]
    },
    {
      "cell_type": "code",
      "source": [
        "df['Age'] = pd.to_numeric(df['Age'], errors='coerce')\n",
        "filtr = df[df['Age'] <15]\n",
        "print(filtr)"
      ],
      "metadata": {
        "colab": {
          "base_uri": "https://localhost:8080/"
        },
        "id": "DDWARoYyP7dV",
        "outputId": "465d8918-3af4-4b36-c95d-982d3b7e32ea"
      },
      "execution_count": 2,
      "outputs": [
        {
          "output_type": "stream",
          "name": "stdout",
          "text": [
            "     PassengerId  Survived  Pclass                                     Name  \\\n",
            "7              8         0       3           Palsson, Master. Gosta Leonard   \n",
            "9             10         1       2      Nasser, Mrs. Nicholas (Adele Achem)   \n",
            "10            11         1       3          Sandstrom, Miss. Marguerite Rut   \n",
            "14            15         0       3     Vestrom, Miss. Hulda Amanda Adolfina   \n",
            "16            17         0       3                     Rice, Master. Eugene   \n",
            "..           ...       ...     ...                                      ...   \n",
            "827          828         1       2                    Mallet, Master. Andre   \n",
            "831          832         1       2          Richards, Master. George Sibley   \n",
            "850          851         0       3  Andersson, Master. Sigvard Harald Elias   \n",
            "852          853         0       3                  Boulos, Miss. Nourelain   \n",
            "869          870         1       3          Johnson, Master. Harold Theodor   \n",
            "\n",
            "        Sex    Age  SibSp  Parch           Ticket                 Fare Cabin  \\\n",
            "7      male   2.00      3      1           349909               21.075   NaN   \n",
            "9    female  14.00      1      0           237736              30.0708   NaN   \n",
            "10   female   4.00      1      1          PP 9549  2024-07-16 00:00:00    G6   \n",
            "14   female  14.00      0      0           350406  8542-07-01 00:00:00   NaN   \n",
            "16     male   2.00      4      1           382652               29.125   NaN   \n",
            "..      ...    ...    ...    ...              ...                  ...   ...   \n",
            "827    male   1.00      0      2  S.C./PARIS 2079              37.0042   NaN   \n",
            "831    male   0.83      1      1            29106                18.75   NaN   \n",
            "850    male   4.00      4      2           347082               31.275   NaN   \n",
            "852  female   9.00      1      1             2678              15.2458   NaN   \n",
            "869    male   4.00      1      1           347742              11.1333   NaN   \n",
            "\n",
            "    Embarked  \n",
            "7          S  \n",
            "9          C  \n",
            "10         S  \n",
            "14         S  \n",
            "16         Q  \n",
            "..       ...  \n",
            "827        C  \n",
            "831        S  \n",
            "850        S  \n",
            "852        C  \n",
            "869        S  \n",
            "\n",
            "[77 rows x 12 columns]\n"
          ]
        }
      ]
    },
    {
      "cell_type": "code",
      "source": [
        "df['Age'] = pd.to_numeric(df['Age'], errors='coerce')\n",
        "filtr = df[df['Age'] >15]\n",
        "print(filtr)"
      ],
      "metadata": {
        "colab": {
          "base_uri": "https://localhost:8080/"
        },
        "id": "w2-g5pErQIAl",
        "outputId": "aa1a2728-ee3a-4b81-84b8-90dbccc0b844"
      },
      "execution_count": 3,
      "outputs": [
        {
          "output_type": "stream",
          "name": "stdout",
          "text": [
            "     PassengerId  Survived  Pclass  \\\n",
            "0              1         0       3   \n",
            "1              2         1       1   \n",
            "2              3         1       3   \n",
            "3              4         1       1   \n",
            "4              5         0       3   \n",
            "..           ...       ...     ...   \n",
            "885          886         0       3   \n",
            "886          887         0       2   \n",
            "887          888         1       1   \n",
            "889          890         1       1   \n",
            "890          891         0       3   \n",
            "\n",
            "                                                  Name     Sex   Age  SibSp  \\\n",
            "0                              Braund, Mr. Owen Harris    male  22.0      1   \n",
            "1    Cumings, Mrs. John Bradley (Florence Briggs Th...  female  38.0      1   \n",
            "2                               Heikkinen, Miss. Laina  female  26.0      0   \n",
            "3         Futrelle, Mrs. Jacques Heath (Lily May Peel)  female  35.0      1   \n",
            "4                             Allen, Mr. William Henry    male  35.0      0   \n",
            "..                                                 ...     ...   ...    ...   \n",
            "885               Rice, Mrs. William (Margaret Norton)  female  39.0      0   \n",
            "886                              Montvila, Rev. Juozas    male  27.0      0   \n",
            "887                       Graham, Miss. Margaret Edith  female  19.0      0   \n",
            "889                              Behr, Mr. Karl Howell    male  26.0      0   \n",
            "890                                Dooley, Mr. Patrick    male  32.0      0   \n",
            "\n",
            "     Parch            Ticket                 Fare Cabin Embarked  \n",
            "0        0         A/5 21171  2025-07-01 00:00:00   NaN        S  \n",
            "1        0          PC 17599              71.2833   C85        C  \n",
            "2        0  STON/O2. 3101282                7.925   NaN        S  \n",
            "3        0            113803                 53.1  C123        S  \n",
            "4        0            373450  2024-05-08 00:00:00   NaN        S  \n",
            "..     ...               ...                  ...   ...      ...  \n",
            "885      5            382652               29.125   NaN        Q  \n",
            "886      0            211536                   13   NaN        S  \n",
            "887      0            112053                   30   B42        S  \n",
            "889      0            111369                   30  C148        C  \n",
            "890      0            370376  1975-07-01 00:00:00   NaN        Q  \n",
            "\n",
            "[624 rows x 12 columns]\n"
          ]
        }
      ]
    }
  ]
}