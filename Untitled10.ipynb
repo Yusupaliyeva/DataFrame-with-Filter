{
  "nbformat": 4,
  "nbformat_minor": 0,
  "metadata": {
    "colab": {
      "provenance": []
    },
    "kernelspec": {
      "name": "python3",
      "display_name": "Python 3"
    },
    "language_info": {
      "name": "python"
    }
  },
  "cells": [
    {
      "cell_type": "code",
      "execution_count": 3,
      "metadata": {
        "colab": {
          "base_uri": "https://localhost:8080/"
        },
        "id": "pt2FkrqkN8oV",
        "outputId": "18448f8c-ae63-4005-a129-2f5b204851e3"
      },
      "outputs": [
        {
          "output_type": "stream",
          "name": "stdout",
          "text": [
            "                      FISH Yoshi    Maktabi  Jinsi           Manzili\n",
            "0  Yusupaliyeva Moxichehra    20  15-maktab   Ayol      Qoqon shahar\n",
            "1       Joraboyeva Hurixon    19   9-maktab   Ayol    Toshloq tumani\n",
            "2    Joraboyeva Bibifotima     9  41-maktab   Ayol    Toshloq tumani\n",
            "3       Amakihonova Madina    19  23-maktab   Ayol  Uchkoprik tumani\n",
            "4              Yunusov Ali     9   8-maktab  Erkak       Quva tumani\n",
            "5              Aliyev Vali     8    1-IDUMI  Erkak    Fargona shahar\n",
            "6        Tursunova Maftuna    15   7-maktab   Ayol       Quva tumani\n"
          ]
        }
      ],
      "source": [
        "import pandas as pd\n",
        "baza={\n",
        "    \"FISH\":[\"Yusupaliyeva Moxichehra\",\"Joraboyeva Hurixon\",\"Joraboyeva Bibifotima\",\"Amakihonova Madina\",\"Yunusov Ali\",\"Aliyev Vali\",\"Tursunova Maftuna\"],\n",
        "    \"Yoshi\":[\"20\",\"19\",\"9\",\"19\",\"9\",\"8\",\"15\"],\n",
        "    \"Maktabi\":[\"15-maktab\",\"9-maktab\",\"41-maktab\",\"23-maktab\",\"8-maktab\",\"1-IDUMI\",\"7-maktab\"],\n",
        "    \"Jinsi\":[\"Ayol\",\"Ayol\",\"Ayol\",\"Ayol\",\"Erkak\",\"Erkak\",\"Ayol\"],\n",
        "    \"Manzili\":[\"Qoqon shahar\",\"Toshloq tumani\",\"Toshloq tumani\",\"Uchkoprik tumani\",\"Quva tumani\",\"Fargona shahar\",\"Quva tumani\"]\n",
        "    }\n",
        "df=pd.DataFrame(baza)\n",
        "print(df)"
      ]
    },
    {
      "cell_type": "code",
      "source": [
        "filtr=df[df['Jinsi']==\"Ayol\"]\n",
        "print(filtr)"
      ],
      "metadata": {
        "colab": {
          "base_uri": "https://localhost:8080/"
        },
        "id": "-GiiJ12-OhpS",
        "outputId": "25706084-f7f8-4643-991d-d0194fc6d25c"
      },
      "execution_count": 4,
      "outputs": [
        {
          "output_type": "stream",
          "name": "stdout",
          "text": [
            "                      FISH Yoshi    Maktabi Jinsi           Manzili\n",
            "0  Yusupaliyeva Moxichehra    20  15-maktab  Ayol      Qoqon shahar\n",
            "1       Joraboyeva Hurixon    19   9-maktab  Ayol    Toshloq tumani\n",
            "2    Joraboyeva Bibifotima     9  41-maktab  Ayol    Toshloq tumani\n",
            "3       Amakihonova Madina    19  23-maktab  Ayol  Uchkoprik tumani\n",
            "6        Tursunova Maftuna    15   7-maktab  Ayol       Quva tumani\n"
          ]
        }
      ]
    },
    {
      "cell_type": "code",
      "source": [
        "filtr=df[df['Jinsi']==\"Erkak\"]\n",
        "print(filtr)"
      ],
      "metadata": {
        "colab": {
          "base_uri": "https://localhost:8080/"
        },
        "id": "w5BKWbgFOokR",
        "outputId": "87771a2b-e0bd-499d-e190-1a3f680613b8"
      },
      "execution_count": 5,
      "outputs": [
        {
          "output_type": "stream",
          "name": "stdout",
          "text": [
            "          FISH Yoshi   Maktabi  Jinsi         Manzili\n",
            "4  Yunusov Ali     9  8-maktab  Erkak     Quva tumani\n",
            "5  Aliyev Vali     8   1-IDUMI  Erkak  Fargona shahar\n"
          ]
        }
      ]
    }
  ]
}